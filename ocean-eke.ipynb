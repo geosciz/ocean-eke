{
 "cells": [
  {
   "cell_type": "markdown",
   "metadata": {},
   "source": [
    "### ocean eddy kinetic energy"
   ]
  },
  {
   "cell_type": "code",
   "execution_count": 1,
   "metadata": {
    "collapsed": true
   },
   "outputs": [],
   "source": [
    "import jdcal, datetime\n",
    "import numpy as np\n",
    "import xarray as xr"
   ]
  },
  {
   "cell_type": "code",
   "execution_count": 2,
   "metadata": {
    "collapsed": true
   },
   "outputs": [],
   "source": [
    "path = '/home/cz2397/data/ssh-eddies/tracks_AVISO_DT2014_daily_web.nc'\n",
    "ds = xr.open_dataset(path, decode_cf=False)"
   ]
  },
  {
   "cell_type": "code",
   "execution_count": 3,
   "metadata": {
    "collapsed": true
   },
   "outputs": [],
   "source": [
    "df = ds.to_dataframe()"
   ]
  },
  {
   "cell_type": "code",
   "execution_count": 4,
   "metadata": {
    "collapsed": false
   },
   "outputs": [
    {
     "data": {
      "text/html": [
       "<div>\n",
       "<table border=\"1\" class=\"dataframe\">\n",
       "  <thead>\n",
       "    <tr style=\"text-align: right;\">\n",
       "      <th></th>\n",
       "      <th>track</th>\n",
       "      <th>n</th>\n",
       "      <th>j1</th>\n",
       "      <th>cyc</th>\n",
       "      <th>lon</th>\n",
       "      <th>lat</th>\n",
       "      <th>A</th>\n",
       "      <th>L</th>\n",
       "      <th>U</th>\n",
       "    </tr>\n",
       "    <tr>\n",
       "      <th>Nobs</th>\n",
       "      <th></th>\n",
       "      <th></th>\n",
       "      <th></th>\n",
       "      <th></th>\n",
       "      <th></th>\n",
       "      <th></th>\n",
       "      <th></th>\n",
       "      <th></th>\n",
       "      <th></th>\n",
       "    </tr>\n",
       "  </thead>\n",
       "  <tbody>\n",
       "    <tr>\n",
       "      <th>0</th>\n",
       "      <td>1</td>\n",
       "      <td>1</td>\n",
       "      <td>2448989</td>\n",
       "      <td>1</td>\n",
       "      <td>397.040985</td>\n",
       "      <td>-21.719400</td>\n",
       "      <td>31.473101</td>\n",
       "      <td>146.738998</td>\n",
       "      <td>79.148399</td>\n",
       "    </tr>\n",
       "    <tr>\n",
       "      <th>1</th>\n",
       "      <td>1</td>\n",
       "      <td>2</td>\n",
       "      <td>2448990</td>\n",
       "      <td>1</td>\n",
       "      <td>397.015991</td>\n",
       "      <td>-21.760300</td>\n",
       "      <td>30.215599</td>\n",
       "      <td>138.673996</td>\n",
       "      <td>79.141296</td>\n",
       "    </tr>\n",
       "    <tr>\n",
       "      <th>2</th>\n",
       "      <td>1</td>\n",
       "      <td>3</td>\n",
       "      <td>2448991</td>\n",
       "      <td>1</td>\n",
       "      <td>397.003998</td>\n",
       "      <td>-21.797701</td>\n",
       "      <td>28.817200</td>\n",
       "      <td>137.839996</td>\n",
       "      <td>78.532097</td>\n",
       "    </tr>\n",
       "    <tr>\n",
       "      <th>3</th>\n",
       "      <td>1</td>\n",
       "      <td>4</td>\n",
       "      <td>2448992</td>\n",
       "      <td>1</td>\n",
       "      <td>396.971008</td>\n",
       "      <td>-21.852100</td>\n",
       "      <td>28.791300</td>\n",
       "      <td>136.145996</td>\n",
       "      <td>77.241402</td>\n",
       "    </tr>\n",
       "    <tr>\n",
       "      <th>4</th>\n",
       "      <td>1</td>\n",
       "      <td>5</td>\n",
       "      <td>2448993</td>\n",
       "      <td>1</td>\n",
       "      <td>396.945007</td>\n",
       "      <td>-21.871201</td>\n",
       "      <td>27.741199</td>\n",
       "      <td>136.119995</td>\n",
       "      <td>77.705101</td>\n",
       "    </tr>\n",
       "  </tbody>\n",
       "</table>\n",
       "</div>"
      ],
      "text/plain": [
       "      track  n       j1  cyc         lon        lat          A           L  \\\n",
       "Nobs                                                                         \n",
       "0         1  1  2448989    1  397.040985 -21.719400  31.473101  146.738998   \n",
       "1         1  2  2448990    1  397.015991 -21.760300  30.215599  138.673996   \n",
       "2         1  3  2448991    1  397.003998 -21.797701  28.817200  137.839996   \n",
       "3         1  4  2448992    1  396.971008 -21.852100  28.791300  136.145996   \n",
       "4         1  5  2448993    1  396.945007 -21.871201  27.741199  136.119995   \n",
       "\n",
       "              U  \n",
       "Nobs             \n",
       "0     79.148399  \n",
       "1     79.141296  \n",
       "2     78.532097  \n",
       "3     77.241402  \n",
       "4     77.705101  "
      ]
     },
     "execution_count": 4,
     "metadata": {},
     "output_type": "execute_result"
    }
   ],
   "source": [
    "df.head()"
   ]
  },
  {
   "cell_type": "markdown",
   "metadata": {},
   "source": [
    "** date **"
   ]
  },
  {
   "cell_type": "code",
   "execution_count": 5,
   "metadata": {
    "collapsed": false
   },
   "outputs": [
    {
     "data": {
      "text/plain": [
       "<xarray.DataArray 'j1' (Nobs: 22510604)>\n",
       "array([2448989, 2448990, 2448991, ..., 2457133, 2457134, 2457135], dtype=int32)\n",
       "Unindexed dimensions:\n",
       "    Nobs\n",
       "Attributes:\n",
       "    units: days\n",
       "    min: 2448989\n",
       "    max: 2457136\n",
       "    long_name: Julian date\n",
       "    description: date of this observation\n",
       "    reference: 2448623\n",
       "    reference_description: Julian date at Jan 1, 1992"
      ]
     },
     "execution_count": 5,
     "metadata": {},
     "output_type": "execute_result"
    }
   ],
   "source": [
    "ds.j1"
   ]
  },
  {
   "cell_type": "code",
   "execution_count": 6,
   "metadata": {
    "collapsed": true
   },
   "outputs": [],
   "source": [
    "def jd_to_dt(jd, ref=0):\n",
    "    y, m, d, f = jdcal.jd2gcal(jd, ref)\n",
    "    h = int(f*24)\n",
    "    return datetime.datetime(y, m, d, h)\n",
    "jd_to_dt_v = np.vectorize(jd_to_dt)"
   ]
  },
  {
   "cell_type": "code",
   "execution_count": 7,
   "metadata": {
    "collapsed": false
   },
   "outputs": [],
   "source": [
    "ds_j1_dt = jd_to_dt_v(ds.j1.values)\n",
    "ds.j1.values = ds_j1_dt"
   ]
  },
  {
   "cell_type": "code",
   "execution_count": 8,
   "metadata": {
    "collapsed": true
   },
   "outputs": [],
   "source": [
    "df = ds.to_dataframe()"
   ]
  },
  {
   "cell_type": "code",
   "execution_count": 9,
   "metadata": {
    "collapsed": false
   },
   "outputs": [
    {
     "data": {
      "text/html": [
       "<div>\n",
       "<table border=\"1\" class=\"dataframe\">\n",
       "  <thead>\n",
       "    <tr style=\"text-align: right;\">\n",
       "      <th></th>\n",
       "      <th>track</th>\n",
       "      <th>n</th>\n",
       "      <th>j1</th>\n",
       "      <th>cyc</th>\n",
       "      <th>lon</th>\n",
       "      <th>lat</th>\n",
       "      <th>A</th>\n",
       "      <th>L</th>\n",
       "      <th>U</th>\n",
       "    </tr>\n",
       "    <tr>\n",
       "      <th>Nobs</th>\n",
       "      <th></th>\n",
       "      <th></th>\n",
       "      <th></th>\n",
       "      <th></th>\n",
       "      <th></th>\n",
       "      <th></th>\n",
       "      <th></th>\n",
       "      <th></th>\n",
       "      <th></th>\n",
       "    </tr>\n",
       "  </thead>\n",
       "  <tbody>\n",
       "    <tr>\n",
       "      <th>0</th>\n",
       "      <td>1</td>\n",
       "      <td>1</td>\n",
       "      <td>1993-01-01 12:00:00</td>\n",
       "      <td>1</td>\n",
       "      <td>397.040985</td>\n",
       "      <td>-21.719400</td>\n",
       "      <td>31.473101</td>\n",
       "      <td>146.738998</td>\n",
       "      <td>79.148399</td>\n",
       "    </tr>\n",
       "    <tr>\n",
       "      <th>1</th>\n",
       "      <td>1</td>\n",
       "      <td>2</td>\n",
       "      <td>1993-01-02 12:00:00</td>\n",
       "      <td>1</td>\n",
       "      <td>397.015991</td>\n",
       "      <td>-21.760300</td>\n",
       "      <td>30.215599</td>\n",
       "      <td>138.673996</td>\n",
       "      <td>79.141296</td>\n",
       "    </tr>\n",
       "    <tr>\n",
       "      <th>2</th>\n",
       "      <td>1</td>\n",
       "      <td>3</td>\n",
       "      <td>1993-01-03 12:00:00</td>\n",
       "      <td>1</td>\n",
       "      <td>397.003998</td>\n",
       "      <td>-21.797701</td>\n",
       "      <td>28.817200</td>\n",
       "      <td>137.839996</td>\n",
       "      <td>78.532097</td>\n",
       "    </tr>\n",
       "    <tr>\n",
       "      <th>3</th>\n",
       "      <td>1</td>\n",
       "      <td>4</td>\n",
       "      <td>1993-01-04 12:00:00</td>\n",
       "      <td>1</td>\n",
       "      <td>396.971008</td>\n",
       "      <td>-21.852100</td>\n",
       "      <td>28.791300</td>\n",
       "      <td>136.145996</td>\n",
       "      <td>77.241402</td>\n",
       "    </tr>\n",
       "    <tr>\n",
       "      <th>4</th>\n",
       "      <td>1</td>\n",
       "      <td>5</td>\n",
       "      <td>1993-01-05 12:00:00</td>\n",
       "      <td>1</td>\n",
       "      <td>396.945007</td>\n",
       "      <td>-21.871201</td>\n",
       "      <td>27.741199</td>\n",
       "      <td>136.119995</td>\n",
       "      <td>77.705101</td>\n",
       "    </tr>\n",
       "  </tbody>\n",
       "</table>\n",
       "</div>"
      ],
      "text/plain": [
       "      track  n                  j1  cyc         lon        lat          A  \\\n",
       "Nobs                                                                        \n",
       "0         1  1 1993-01-01 12:00:00    1  397.040985 -21.719400  31.473101   \n",
       "1         1  2 1993-01-02 12:00:00    1  397.015991 -21.760300  30.215599   \n",
       "2         1  3 1993-01-03 12:00:00    1  397.003998 -21.797701  28.817200   \n",
       "3         1  4 1993-01-04 12:00:00    1  396.971008 -21.852100  28.791300   \n",
       "4         1  5 1993-01-05 12:00:00    1  396.945007 -21.871201  27.741199   \n",
       "\n",
       "               L          U  \n",
       "Nobs                         \n",
       "0     146.738998  79.148399  \n",
       "1     138.673996  79.141296  \n",
       "2     137.839996  78.532097  \n",
       "3     136.145996  77.241402  \n",
       "4     136.119995  77.705101  "
      ]
     },
     "execution_count": 9,
     "metadata": {},
     "output_type": "execute_result"
    }
   ],
   "source": [
    "df.head()"
   ]
  },
  {
   "cell_type": "markdown",
   "metadata": {},
   "source": [
    "** longitude **"
   ]
  },
  {
   "cell_type": "code",
   "execution_count": 10,
   "metadata": {
    "collapsed": false
   },
   "outputs": [
    {
     "data": {
      "text/plain": [
       "<xarray.DataArray 'lon' (Nobs: 22510604)>\n",
       "array([ 397.040985,  397.015991,  397.003998, ...,  333.492004,  332.901001,\n",
       "        332.738007], dtype=float32)\n",
       "Unindexed dimensions:\n",
       "    Nobs\n",
       "Attributes:\n",
       "    units: degrees east\n",
       "    min: 262.949\n",
       "    max: 649.179\n",
       "    long_name: longitude\n",
       "    description: longitude of this observation\n",
       "    note: To avoid jumps of ~360 deg in eddy tracks when the trajectory wraps around a longitude branch point that might lie in a region of interest, the longitude domain is set to 260E-650E. With this range, the only eddies with trajectories that might be affected will be those passing through the Drake Passage."
      ]
     },
     "execution_count": 10,
     "metadata": {},
     "output_type": "execute_result"
    }
   ],
   "source": [
    "ds.lon"
   ]
  },
  {
   "cell_type": "code",
   "execution_count": 11,
   "metadata": {
    "collapsed": true
   },
   "outputs": [],
   "source": [
    "def range_180(longitude):\n",
    "    if 260 < longitude <= 540:\n",
    "        longitude = longitude - 360\n",
    "    elif 540 < longitude <= 650:\n",
    "        longitude = longitude - 720\n",
    "    return longitude\n",
    "range_180_v = np.vectorize(range_180)"
   ]
  },
  {
   "cell_type": "code",
   "execution_count": 12,
   "metadata": {
    "collapsed": false
   },
   "outputs": [],
   "source": [
    "ds_lon_180 = range_180_v(ds.lon.values)\n",
    "ds.lon.values = ds_lon_180"
   ]
  },
  {
   "cell_type": "code",
   "execution_count": 13,
   "metadata": {
    "collapsed": true
   },
   "outputs": [],
   "source": [
    "df = ds.to_dataframe()"
   ]
  },
  {
   "cell_type": "code",
   "execution_count": 14,
   "metadata": {
    "collapsed": false
   },
   "outputs": [
    {
     "data": {
      "text/html": [
       "<div>\n",
       "<table border=\"1\" class=\"dataframe\">\n",
       "  <thead>\n",
       "    <tr style=\"text-align: right;\">\n",
       "      <th></th>\n",
       "      <th>track</th>\n",
       "      <th>n</th>\n",
       "      <th>j1</th>\n",
       "      <th>cyc</th>\n",
       "      <th>lon</th>\n",
       "      <th>lat</th>\n",
       "      <th>A</th>\n",
       "      <th>L</th>\n",
       "      <th>U</th>\n",
       "    </tr>\n",
       "    <tr>\n",
       "      <th>Nobs</th>\n",
       "      <th></th>\n",
       "      <th></th>\n",
       "      <th></th>\n",
       "      <th></th>\n",
       "      <th></th>\n",
       "      <th></th>\n",
       "      <th></th>\n",
       "      <th></th>\n",
       "      <th></th>\n",
       "    </tr>\n",
       "  </thead>\n",
       "  <tbody>\n",
       "    <tr>\n",
       "      <th>0</th>\n",
       "      <td>1</td>\n",
       "      <td>1</td>\n",
       "      <td>1993-01-01 12:00:00</td>\n",
       "      <td>1</td>\n",
       "      <td>37.040985</td>\n",
       "      <td>-21.719400</td>\n",
       "      <td>31.473101</td>\n",
       "      <td>146.738998</td>\n",
       "      <td>79.148399</td>\n",
       "    </tr>\n",
       "    <tr>\n",
       "      <th>1</th>\n",
       "      <td>1</td>\n",
       "      <td>2</td>\n",
       "      <td>1993-01-02 12:00:00</td>\n",
       "      <td>1</td>\n",
       "      <td>37.015991</td>\n",
       "      <td>-21.760300</td>\n",
       "      <td>30.215599</td>\n",
       "      <td>138.673996</td>\n",
       "      <td>79.141296</td>\n",
       "    </tr>\n",
       "    <tr>\n",
       "      <th>2</th>\n",
       "      <td>1</td>\n",
       "      <td>3</td>\n",
       "      <td>1993-01-03 12:00:00</td>\n",
       "      <td>1</td>\n",
       "      <td>37.003998</td>\n",
       "      <td>-21.797701</td>\n",
       "      <td>28.817200</td>\n",
       "      <td>137.839996</td>\n",
       "      <td>78.532097</td>\n",
       "    </tr>\n",
       "    <tr>\n",
       "      <th>3</th>\n",
       "      <td>1</td>\n",
       "      <td>4</td>\n",
       "      <td>1993-01-04 12:00:00</td>\n",
       "      <td>1</td>\n",
       "      <td>36.971008</td>\n",
       "      <td>-21.852100</td>\n",
       "      <td>28.791300</td>\n",
       "      <td>136.145996</td>\n",
       "      <td>77.241402</td>\n",
       "    </tr>\n",
       "    <tr>\n",
       "      <th>4</th>\n",
       "      <td>1</td>\n",
       "      <td>5</td>\n",
       "      <td>1993-01-05 12:00:00</td>\n",
       "      <td>1</td>\n",
       "      <td>36.945007</td>\n",
       "      <td>-21.871201</td>\n",
       "      <td>27.741199</td>\n",
       "      <td>136.119995</td>\n",
       "      <td>77.705101</td>\n",
       "    </tr>\n",
       "  </tbody>\n",
       "</table>\n",
       "</div>"
      ],
      "text/plain": [
       "      track  n                  j1  cyc        lon        lat          A  \\\n",
       "Nobs                                                                       \n",
       "0         1  1 1993-01-01 12:00:00    1  37.040985 -21.719400  31.473101   \n",
       "1         1  2 1993-01-02 12:00:00    1  37.015991 -21.760300  30.215599   \n",
       "2         1  3 1993-01-03 12:00:00    1  37.003998 -21.797701  28.817200   \n",
       "3         1  4 1993-01-04 12:00:00    1  36.971008 -21.852100  28.791300   \n",
       "4         1  5 1993-01-05 12:00:00    1  36.945007 -21.871201  27.741199   \n",
       "\n",
       "               L          U  \n",
       "Nobs                         \n",
       "0     146.738998  79.148399  \n",
       "1     138.673996  79.141296  \n",
       "2     137.839996  78.532097  \n",
       "3     136.145996  77.241402  \n",
       "4     136.119995  77.705101  "
      ]
     },
     "execution_count": 14,
     "metadata": {},
     "output_type": "execute_result"
    }
   ],
   "source": [
    "df.head()"
   ]
  },
  {
   "cell_type": "markdown",
   "metadata": {},
   "source": [
    "** latitude **"
   ]
  },
  {
   "cell_type": "code",
   "execution_count": 15,
   "metadata": {
    "collapsed": false
   },
   "outputs": [
    {
     "data": {
      "text/plain": [
       "<xarray.DataArray 'lat' (Nobs: 22510604)>\n",
       "array([-21.7194  , -21.7603  , -21.797701, ..., -17.0242  , -16.863001, -16.7901  ], dtype=float32)\n",
       "Unindexed dimensions:\n",
       "    Nobs\n",
       "Attributes:\n",
       "    units: degrees north\n",
       "    min: -77.3894\n",
       "    max: 79.2183\n",
       "    long_name: latitude\n",
       "    description: latitude of this observation (negative for southern hemisphere)"
      ]
     },
     "execution_count": 15,
     "metadata": {},
     "output_type": "execute_result"
    }
   ],
   "source": [
    "ds.lat"
   ]
  },
  {
   "cell_type": "markdown",
   "metadata": {},
   "source": [
    "** amplitude **"
   ]
  },
  {
   "cell_type": "code",
   "execution_count": 16,
   "metadata": {
    "collapsed": false
   },
   "outputs": [
    {
     "data": {
      "text/plain": [
       "<xarray.DataArray 'A' (Nobs: 22510604)>\n",
       "array([ 31.473101,  30.215599,  28.8172  , ...,   1.36601 ,   1.31433 ,\n",
       "         1.07771 ], dtype=float32)\n",
       "Unindexed dimensions:\n",
       "    Nobs\n",
       "Attributes:\n",
       "    units: cm\n",
       "    min: 1.0\n",
       "    max: 48.4769\n",
       "    long_name: amplitude\n",
       "    description: magnitude of the height difference between the extremum of SSH within the eddy and the SSH around the contour defining the eddy perimeter"
      ]
     },
     "execution_count": 16,
     "metadata": {},
     "output_type": "execute_result"
    }
   ],
   "source": [
    "ds.A"
   ]
  },
  {
   "cell_type": "code",
   "execution_count": 17,
   "metadata": {
    "collapsed": true
   },
   "outputs": [],
   "source": [
    "ds_A_meters = ds.A.values*0.01\n",
    "ds.A.values = ds_A_meters"
   ]
  },
  {
   "cell_type": "code",
   "execution_count": 18,
   "metadata": {
    "collapsed": false
   },
   "outputs": [],
   "source": [
    "df = ds.to_dataframe()"
   ]
  },
  {
   "cell_type": "code",
   "execution_count": 19,
   "metadata": {
    "collapsed": false
   },
   "outputs": [
    {
     "data": {
      "text/html": [
       "<div>\n",
       "<table border=\"1\" class=\"dataframe\">\n",
       "  <thead>\n",
       "    <tr style=\"text-align: right;\">\n",
       "      <th></th>\n",
       "      <th>track</th>\n",
       "      <th>n</th>\n",
       "      <th>j1</th>\n",
       "      <th>cyc</th>\n",
       "      <th>lon</th>\n",
       "      <th>lat</th>\n",
       "      <th>A</th>\n",
       "      <th>L</th>\n",
       "      <th>U</th>\n",
       "    </tr>\n",
       "    <tr>\n",
       "      <th>Nobs</th>\n",
       "      <th></th>\n",
       "      <th></th>\n",
       "      <th></th>\n",
       "      <th></th>\n",
       "      <th></th>\n",
       "      <th></th>\n",
       "      <th></th>\n",
       "      <th></th>\n",
       "      <th></th>\n",
       "    </tr>\n",
       "  </thead>\n",
       "  <tbody>\n",
       "    <tr>\n",
       "      <th>0</th>\n",
       "      <td>1</td>\n",
       "      <td>1</td>\n",
       "      <td>1993-01-01 12:00:00</td>\n",
       "      <td>1</td>\n",
       "      <td>37.040985</td>\n",
       "      <td>-21.719400</td>\n",
       "      <td>0.314731</td>\n",
       "      <td>146.738998</td>\n",
       "      <td>79.148399</td>\n",
       "    </tr>\n",
       "    <tr>\n",
       "      <th>1</th>\n",
       "      <td>1</td>\n",
       "      <td>2</td>\n",
       "      <td>1993-01-02 12:00:00</td>\n",
       "      <td>1</td>\n",
       "      <td>37.015991</td>\n",
       "      <td>-21.760300</td>\n",
       "      <td>0.302156</td>\n",
       "      <td>138.673996</td>\n",
       "      <td>79.141296</td>\n",
       "    </tr>\n",
       "    <tr>\n",
       "      <th>2</th>\n",
       "      <td>1</td>\n",
       "      <td>3</td>\n",
       "      <td>1993-01-03 12:00:00</td>\n",
       "      <td>1</td>\n",
       "      <td>37.003998</td>\n",
       "      <td>-21.797701</td>\n",
       "      <td>0.288172</td>\n",
       "      <td>137.839996</td>\n",
       "      <td>78.532097</td>\n",
       "    </tr>\n",
       "    <tr>\n",
       "      <th>3</th>\n",
       "      <td>1</td>\n",
       "      <td>4</td>\n",
       "      <td>1993-01-04 12:00:00</td>\n",
       "      <td>1</td>\n",
       "      <td>36.971008</td>\n",
       "      <td>-21.852100</td>\n",
       "      <td>0.287913</td>\n",
       "      <td>136.145996</td>\n",
       "      <td>77.241402</td>\n",
       "    </tr>\n",
       "    <tr>\n",
       "      <th>4</th>\n",
       "      <td>1</td>\n",
       "      <td>5</td>\n",
       "      <td>1993-01-05 12:00:00</td>\n",
       "      <td>1</td>\n",
       "      <td>36.945007</td>\n",
       "      <td>-21.871201</td>\n",
       "      <td>0.277412</td>\n",
       "      <td>136.119995</td>\n",
       "      <td>77.705101</td>\n",
       "    </tr>\n",
       "  </tbody>\n",
       "</table>\n",
       "</div>"
      ],
      "text/plain": [
       "      track  n                  j1  cyc        lon        lat         A  \\\n",
       "Nobs                                                                      \n",
       "0         1  1 1993-01-01 12:00:00    1  37.040985 -21.719400  0.314731   \n",
       "1         1  2 1993-01-02 12:00:00    1  37.015991 -21.760300  0.302156   \n",
       "2         1  3 1993-01-03 12:00:00    1  37.003998 -21.797701  0.288172   \n",
       "3         1  4 1993-01-04 12:00:00    1  36.971008 -21.852100  0.287913   \n",
       "4         1  5 1993-01-05 12:00:00    1  36.945007 -21.871201  0.277412   \n",
       "\n",
       "               L          U  \n",
       "Nobs                         \n",
       "0     146.738998  79.148399  \n",
       "1     138.673996  79.141296  \n",
       "2     137.839996  78.532097  \n",
       "3     136.145996  77.241402  \n",
       "4     136.119995  77.705101  "
      ]
     },
     "execution_count": 19,
     "metadata": {},
     "output_type": "execute_result"
    }
   ],
   "source": [
    "df.head()"
   ]
  },
  {
   "cell_type": "markdown",
   "metadata": {},
   "source": [
    "** radius **"
   ]
  },
  {
   "cell_type": "code",
   "execution_count": 20,
   "metadata": {
    "collapsed": false
   },
   "outputs": [
    {
     "data": {
      "text/plain": [
       "<xarray.DataArray 'L' (Nobs: 22510604)>\n",
       "array([ 146.738998,  138.673996,  137.839996, ...,  106.345001,   82.703598,\n",
       "         76.799698], dtype=float32)\n",
       "Unindexed dimensions:\n",
       "    Nobs\n",
       "Attributes:\n",
       "    units: km\n",
       "    min: 8.93032\n",
       "    max: 444.603\n",
       "    long_name: radius scale\n",
       "    description: radius of a circle whose area is equal to that enclosed by the contour of maximum circum-average speed"
      ]
     },
     "execution_count": 20,
     "metadata": {},
     "output_type": "execute_result"
    }
   ],
   "source": [
    "ds.L"
   ]
  },
  {
   "cell_type": "code",
   "execution_count": 21,
   "metadata": {
    "collapsed": true
   },
   "outputs": [],
   "source": [
    "ds_L_meters = ds.L.values*1000\n",
    "ds.L.values = ds_L_meters"
   ]
  },
  {
   "cell_type": "code",
   "execution_count": 22,
   "metadata": {
    "collapsed": true
   },
   "outputs": [],
   "source": [
    "df = ds.to_dataframe()"
   ]
  },
  {
   "cell_type": "code",
   "execution_count": 23,
   "metadata": {
    "collapsed": false
   },
   "outputs": [
    {
     "data": {
      "text/html": [
       "<div>\n",
       "<table border=\"1\" class=\"dataframe\">\n",
       "  <thead>\n",
       "    <tr style=\"text-align: right;\">\n",
       "      <th></th>\n",
       "      <th>track</th>\n",
       "      <th>n</th>\n",
       "      <th>j1</th>\n",
       "      <th>cyc</th>\n",
       "      <th>lon</th>\n",
       "      <th>lat</th>\n",
       "      <th>A</th>\n",
       "      <th>L</th>\n",
       "      <th>U</th>\n",
       "    </tr>\n",
       "    <tr>\n",
       "      <th>Nobs</th>\n",
       "      <th></th>\n",
       "      <th></th>\n",
       "      <th></th>\n",
       "      <th></th>\n",
       "      <th></th>\n",
       "      <th></th>\n",
       "      <th></th>\n",
       "      <th></th>\n",
       "      <th></th>\n",
       "    </tr>\n",
       "  </thead>\n",
       "  <tbody>\n",
       "    <tr>\n",
       "      <th>0</th>\n",
       "      <td>1</td>\n",
       "      <td>1</td>\n",
       "      <td>1993-01-01 12:00:00</td>\n",
       "      <td>1</td>\n",
       "      <td>37.040985</td>\n",
       "      <td>-21.719400</td>\n",
       "      <td>0.314731</td>\n",
       "      <td>146739</td>\n",
       "      <td>79.148399</td>\n",
       "    </tr>\n",
       "    <tr>\n",
       "      <th>1</th>\n",
       "      <td>1</td>\n",
       "      <td>2</td>\n",
       "      <td>1993-01-02 12:00:00</td>\n",
       "      <td>1</td>\n",
       "      <td>37.015991</td>\n",
       "      <td>-21.760300</td>\n",
       "      <td>0.302156</td>\n",
       "      <td>138674</td>\n",
       "      <td>79.141296</td>\n",
       "    </tr>\n",
       "    <tr>\n",
       "      <th>2</th>\n",
       "      <td>1</td>\n",
       "      <td>3</td>\n",
       "      <td>1993-01-03 12:00:00</td>\n",
       "      <td>1</td>\n",
       "      <td>37.003998</td>\n",
       "      <td>-21.797701</td>\n",
       "      <td>0.288172</td>\n",
       "      <td>137840</td>\n",
       "      <td>78.532097</td>\n",
       "    </tr>\n",
       "    <tr>\n",
       "      <th>3</th>\n",
       "      <td>1</td>\n",
       "      <td>4</td>\n",
       "      <td>1993-01-04 12:00:00</td>\n",
       "      <td>1</td>\n",
       "      <td>36.971008</td>\n",
       "      <td>-21.852100</td>\n",
       "      <td>0.287913</td>\n",
       "      <td>136146</td>\n",
       "      <td>77.241402</td>\n",
       "    </tr>\n",
       "    <tr>\n",
       "      <th>4</th>\n",
       "      <td>1</td>\n",
       "      <td>5</td>\n",
       "      <td>1993-01-05 12:00:00</td>\n",
       "      <td>1</td>\n",
       "      <td>36.945007</td>\n",
       "      <td>-21.871201</td>\n",
       "      <td>0.277412</td>\n",
       "      <td>136120</td>\n",
       "      <td>77.705101</td>\n",
       "    </tr>\n",
       "  </tbody>\n",
       "</table>\n",
       "</div>"
      ],
      "text/plain": [
       "      track  n                  j1  cyc        lon        lat         A  \\\n",
       "Nobs                                                                      \n",
       "0         1  1 1993-01-01 12:00:00    1  37.040985 -21.719400  0.314731   \n",
       "1         1  2 1993-01-02 12:00:00    1  37.015991 -21.760300  0.302156   \n",
       "2         1  3 1993-01-03 12:00:00    1  37.003998 -21.797701  0.288172   \n",
       "3         1  4 1993-01-04 12:00:00    1  36.971008 -21.852100  0.287913   \n",
       "4         1  5 1993-01-05 12:00:00    1  36.945007 -21.871201  0.277412   \n",
       "\n",
       "           L          U  \n",
       "Nobs                     \n",
       "0     146739  79.148399  \n",
       "1     138674  79.141296  \n",
       "2     137840  78.532097  \n",
       "3     136146  77.241402  \n",
       "4     136120  77.705101  "
      ]
     },
     "execution_count": 23,
     "metadata": {},
     "output_type": "execute_result"
    }
   ],
   "source": [
    "df.head()"
   ]
  },
  {
   "cell_type": "markdown",
   "metadata": {},
   "source": [
    "** speed **"
   ]
  },
  {
   "cell_type": "code",
   "execution_count": 24,
   "metadata": {
    "collapsed": false
   },
   "outputs": [
    {
     "data": {
      "text/plain": [
       "<xarray.DataArray 'U' (Nobs: 22510604)>\n",
       "array([ 79.148399,  79.141296,  78.532097, ...,   6.05052 ,   5.84693 ,\n",
       "         5.63855 ], dtype=float32)\n",
       "Unindexed dimensions:\n",
       "    Nobs\n",
       "Attributes:\n",
       "    units: cm/sec\n",
       "    min: 1.08407\n",
       "    max: 671.569\n",
       "    long_name: maximum circum-averaged speed\n",
       "    description: average speed of the contour defining the radius scale L"
      ]
     },
     "execution_count": 24,
     "metadata": {},
     "output_type": "execute_result"
    }
   ],
   "source": [
    "ds.U"
   ]
  },
  {
   "cell_type": "code",
   "execution_count": 25,
   "metadata": {
    "collapsed": true
   },
   "outputs": [],
   "source": [
    "ds_U_m_s = ds.U.values*0.01\n",
    "ds.U.values = ds_U_m_s"
   ]
  },
  {
   "cell_type": "code",
   "execution_count": 26,
   "metadata": {
    "collapsed": true
   },
   "outputs": [],
   "source": [
    "df = ds.to_dataframe()"
   ]
  },
  {
   "cell_type": "code",
   "execution_count": 27,
   "metadata": {
    "collapsed": false
   },
   "outputs": [
    {
     "data": {
      "text/html": [
       "<div>\n",
       "<table border=\"1\" class=\"dataframe\">\n",
       "  <thead>\n",
       "    <tr style=\"text-align: right;\">\n",
       "      <th></th>\n",
       "      <th>track</th>\n",
       "      <th>n</th>\n",
       "      <th>j1</th>\n",
       "      <th>cyc</th>\n",
       "      <th>lon</th>\n",
       "      <th>lat</th>\n",
       "      <th>A</th>\n",
       "      <th>L</th>\n",
       "      <th>U</th>\n",
       "    </tr>\n",
       "    <tr>\n",
       "      <th>Nobs</th>\n",
       "      <th></th>\n",
       "      <th></th>\n",
       "      <th></th>\n",
       "      <th></th>\n",
       "      <th></th>\n",
       "      <th></th>\n",
       "      <th></th>\n",
       "      <th></th>\n",
       "      <th></th>\n",
       "    </tr>\n",
       "  </thead>\n",
       "  <tbody>\n",
       "    <tr>\n",
       "      <th>0</th>\n",
       "      <td>1</td>\n",
       "      <td>1</td>\n",
       "      <td>1993-01-01 12:00:00</td>\n",
       "      <td>1</td>\n",
       "      <td>37.040985</td>\n",
       "      <td>-21.719400</td>\n",
       "      <td>0.314731</td>\n",
       "      <td>146739</td>\n",
       "      <td>0.791484</td>\n",
       "    </tr>\n",
       "    <tr>\n",
       "      <th>1</th>\n",
       "      <td>1</td>\n",
       "      <td>2</td>\n",
       "      <td>1993-01-02 12:00:00</td>\n",
       "      <td>1</td>\n",
       "      <td>37.015991</td>\n",
       "      <td>-21.760300</td>\n",
       "      <td>0.302156</td>\n",
       "      <td>138674</td>\n",
       "      <td>0.791413</td>\n",
       "    </tr>\n",
       "    <tr>\n",
       "      <th>2</th>\n",
       "      <td>1</td>\n",
       "      <td>3</td>\n",
       "      <td>1993-01-03 12:00:00</td>\n",
       "      <td>1</td>\n",
       "      <td>37.003998</td>\n",
       "      <td>-21.797701</td>\n",
       "      <td>0.288172</td>\n",
       "      <td>137840</td>\n",
       "      <td>0.785321</td>\n",
       "    </tr>\n",
       "    <tr>\n",
       "      <th>3</th>\n",
       "      <td>1</td>\n",
       "      <td>4</td>\n",
       "      <td>1993-01-04 12:00:00</td>\n",
       "      <td>1</td>\n",
       "      <td>36.971008</td>\n",
       "      <td>-21.852100</td>\n",
       "      <td>0.287913</td>\n",
       "      <td>136146</td>\n",
       "      <td>0.772414</td>\n",
       "    </tr>\n",
       "    <tr>\n",
       "      <th>4</th>\n",
       "      <td>1</td>\n",
       "      <td>5</td>\n",
       "      <td>1993-01-05 12:00:00</td>\n",
       "      <td>1</td>\n",
       "      <td>36.945007</td>\n",
       "      <td>-21.871201</td>\n",
       "      <td>0.277412</td>\n",
       "      <td>136120</td>\n",
       "      <td>0.777051</td>\n",
       "    </tr>\n",
       "  </tbody>\n",
       "</table>\n",
       "</div>"
      ],
      "text/plain": [
       "      track  n                  j1  cyc        lon        lat         A  \\\n",
       "Nobs                                                                      \n",
       "0         1  1 1993-01-01 12:00:00    1  37.040985 -21.719400  0.314731   \n",
       "1         1  2 1993-01-02 12:00:00    1  37.015991 -21.760300  0.302156   \n",
       "2         1  3 1993-01-03 12:00:00    1  37.003998 -21.797701  0.288172   \n",
       "3         1  4 1993-01-04 12:00:00    1  36.971008 -21.852100  0.287913   \n",
       "4         1  5 1993-01-05 12:00:00    1  36.945007 -21.871201  0.277412   \n",
       "\n",
       "           L         U  \n",
       "Nobs                    \n",
       "0     146739  0.791484  \n",
       "1     138674  0.791413  \n",
       "2     137840  0.785321  \n",
       "3     136146  0.772414  \n",
       "4     136120  0.777051  "
      ]
     },
     "execution_count": 27,
     "metadata": {},
     "output_type": "execute_result"
    }
   ],
   "source": [
    "df.head()"
   ]
  }
 ],
 "metadata": {
  "kernelspec": {
   "display_name": "Python 2.7",
   "language": "python",
   "name": "python2"
  },
  "language_info": {
   "codemirror_mode": {
    "name": "ipython",
    "version": 2
   },
   "file_extension": ".py",
   "mimetype": "text/x-python",
   "name": "python",
   "nbconvert_exporter": "python",
   "pygments_lexer": "ipython2",
   "version": "2.7.11"
  }
 },
 "nbformat": 4,
 "nbformat_minor": 0
}
